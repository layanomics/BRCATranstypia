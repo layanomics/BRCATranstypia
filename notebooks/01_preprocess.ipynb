{
 "cells": [
  {
   "cell_type": "markdown",
   "id": "a7bcab99",
   "metadata": {},
   "source": [
    "# 01_preprocess.ipynb — (clean + align + split)"
   ]
  },
  {
   "cell_type": "markdown",
   "id": "68c64d07",
   "metadata": {},
   "source": [
    "## 0. Notebook Setup & Paths"
   ]
  },
  {
   "cell_type": "code",
   "execution_count": 20,
   "id": "21aa1e5a",
   "metadata": {},
   "outputs": [],
   "source": [
    "import numpy as np, pandas as pd, random, json\n",
    "from pathlib import Path\n",
    "from sklearn.model_selection import StratifiedGroupKFold\n",
    "from sklearn.preprocessing import StandardScaler\n",
    "from sklearn.decomposition import PCA\n",
    "import matplotlib.pyplot as plt"
   ]
  },
  {
   "cell_type": "code",
   "execution_count": 21,
   "id": "940cd506",
   "metadata": {},
   "outputs": [],
   "source": [
    "RANDOM_SEED = 42\n",
    "np.random.seed(RANDOM_SEED); random.seed(RANDOM_SEED)"
   ]
  },
  {
   "cell_type": "code",
   "execution_count": 22,
   "id": "a26d64ac",
   "metadata": {},
   "outputs": [
    {
     "name": "stdout",
     "output_type": "stream",
     "text": [
      "✓ Paths ready\n",
      "\n",
      "📂 PROJECT_ROOT : c:\\Projects\\BRCATranstypia\n",
      "📄 Expression file : ✅ Found → TCGA-BRCA.HiSeqV2.gz\n",
      "📄 Phenotype file  : ✅ Found → TCGA-BRCA.GDC_phenotype.tsv\n",
      "\n",
      "DataFrames Loaded:\n",
      "   Expression: (20530, 1219)\n",
      "   Phenotype : (1247, 194)\n"
     ]
    }
   ],
   "source": [
    "# Project paths\n",
    "PROJECT_ROOT = Path.cwd().parents[0] if Path.cwd().name == \"notebooks\" else Path.cwd()\n",
    "DATA_RAW = PROJECT_ROOT / \"data\" / \"raw\"\n",
    "DATA_INTERIM = PROJECT_ROOT / \"data\" / \"interim\"\n",
    "DATA_PROCESSED = PROJECT_ROOT / \"data\" / \"processed\"\n",
    "REPORTS = PROJECT_ROOT / \"reports\"\n",
    "FIGS = PROJECT_ROOT / \"reports\" / \"figures\"\n",
    "MODELS = PROJECT_ROOT / \"models\"\n",
    "\n",
    "# Create folders (including DATA_RAW to be safe)\n",
    "for d in (DATA_RAW, DATA_INTERIM, DATA_PROCESSED, REPORTS, FIGS, MODELS):\n",
    "    d.mkdir(parents=True, exist_ok=True)\n",
    "\n",
    "# Raw inputs\n",
    "expr_path   = DATA_RAW / \"TCGA-BRCA.HiSeqV2.gz\"\n",
    "pheno_path  = DATA_RAW / \"TCGA-BRCA.GDC_phenotype.tsv\"\n",
    "\n",
    "# Load data\n",
    "expr_df  = pd.read_csv(expr_path, sep=\"\\t\", compression=\"infer\", low_memory=False)\n",
    "pheno_df = pd.read_csv(pheno_path, sep=\"\\t\", low_memory=False)\n",
    "\n",
    "\n",
    "# Verify project structure & data files ---\n",
    "print(\"✓ Paths ready\\n\")\n",
    "print(f\"📂 PROJECT_ROOT : {PROJECT_ROOT}\")\n",
    "print(f\"📄 Expression file : {'✅ Found' if expr_path.exists() else '❌ Missing'} → {expr_path.name}\")\n",
    "print(f\"📄 Phenotype file  : {'✅ Found' if pheno_path.exists() else '❌ Missing'} → {pheno_path.name}\")\n",
    "\n",
    "print(\"\\nDataFrames Loaded:\")\n",
    "print(f\"   Expression: {expr_df.shape}\")\n",
    "print(f\"   Phenotype : {pheno_df.shape}\")\n",
    "\n"
   ]
  },
  {
   "cell_type": "markdown",
   "id": "956c3749",
   "metadata": {},
   "source": [
    "# 1. Inspect phenotype schema;Locate ID / Subtype Columns "
   ]
  },
  {
   "cell_type": "code",
   "execution_count": 23,
   "id": "b27b991c",
   "metadata": {},
   "outputs": [
    {
     "name": "stdout",
     "output_type": "stream",
     "text": [
      "pheno_df columns (count = 194 ):\n",
      "['sampleID', 'AJCC_Stage_nature2012', 'Age_at_Initial_Pathologic_Diagnosis_nature2012', 'CN_Clusters_nature2012', 'Converted_Stage_nature2012', 'Days_to_Date_of_Last_Contact_nature2012', 'Days_to_date_of_Death_nature2012', 'ER_Status_nature2012', 'Gender_nature2012', 'HER2_Final_Status_nature2012']\n"
     ]
    }
   ],
   "source": [
    "# (1.1) Quick glance at columns and basic info ---\n",
    "print(\"pheno_df columns (count =\", len(pheno_df.columns), \"):\")\n",
    "print(list(pheno_df.columns)[:10]) "
   ]
  },
  {
   "cell_type": "code",
   "execution_count": 24,
   "id": "0367f997",
   "metadata": {},
   "outputs": [
    {
     "name": "stdout",
     "output_type": "stream",
     "text": [
      "\n",
      "Candidate ID columns: ['sampleID', 'bcr_followup_barcode', 'bcr_patient_barcode', 'bcr_sample_barcode', 'followup_case_report_form_submission_reason', 'sample_type', 'sample_type_id']\n",
      "Candidate Subtype columns: ['Integrated_Clusters_with_PAM50__nature2012', 'PAM50Call_RNAseq', 'PAM50_mRNA_nature2012', 'SigClust_Intrinsic_mRNA_nature2012']\n"
     ]
    }
   ],
   "source": [
    "# (1.2) Heuristics to propose candidate columns \n",
    "# ID-like columns commonly used in TCGA phenotype\n",
    "id_candidates = [c for c in pheno_df.columns\n",
    "                 if any(k in c.lower() for k in ['barcode', 'sample', 'submitter', 'bcr_sample', 'case', 'submitter_id'])]\n",
    "\n",
    "# Subtype-like columns that may carry PAM50/intrinsic subtype labels\n",
    "subtype_candidates = [c for c in pheno_df.columns\n",
    "                      if any(k in c.lower() for k in ['pam50', 'subtype', 'intrinsic'])]\n",
    "\n",
    "print(\"\\nCandidate ID columns:\", id_candidates or \"(none found yet)\")\n",
    "print(\"Candidate Subtype columns:\", subtype_candidates or \"(none found yet)\")\n"
   ]
  },
  {
   "cell_type": "code",
   "execution_count": 25,
   "id": "ab6f3415",
   "metadata": {},
   "outputs": [
    {
     "name": "stdout",
     "output_type": "stream",
     "text": [
      "✅ Saved non-empty previews to c:\\Projects\\BRCATranstypia\\data\\interim\\candidates\n"
     ]
    }
   ],
   "source": [
    "# (1-3) Save candidate columns to inspect \n",
    "out_dir = DATA_INTERIM / \"candidates\"\n",
    "out_dir.mkdir(parents=True, exist_ok=True)\n",
    "\n",
    "# Save first 10 non-NA values from each column\n",
    "for cols, name in [(id_candidates, \"id_candidates\"), (subtype_candidates, \"subtype_candidates\")]:\n",
    "    df_nonempty = pd.concat(\n",
    "        [pheno_df[c].dropna().head(10).reset_index(drop=True).rename(c) for c in cols],\n",
    "        axis=1\n",
    "    )\n",
    "    df_nonempty.to_csv(out_dir / f\"{name}_preview.csv\", index=False)\n",
    "\n",
    "print(f\"✅ Saved non-empty previews to {out_dir}\")"
   ]
  },
  {
   "cell_type": "code",
   "execution_count": 26,
   "id": "6328cd57",
   "metadata": {},
   "outputs": [
    {
     "name": "stdout",
     "output_type": "stream",
     "text": [
      "\n",
      "Chosen ID_COL : sampleID\n",
      "Chosen SUB_COL: PAM50Call_RNAseq\n",
      "Chosen PATIENT_COL: bcr_patient_barcode\n"
     ]
    }
   ],
   "source": [
    "# (1.4) picking the most likely candidates after manual inspection\n",
    "ID_COL  = \"sampleID\"            # sample-level ID, matches expression column names\n",
    "SUB_COL = \"PAM50Call_RNAseq\"   # RNA-seq PAM50 subtype labels\n",
    "PATIENT_COL  = \"bcr_patient_barcode\" # patient-level ID, for group splitting\n",
    "\n",
    "print(\"\\nChosen ID_COL :\", ID_COL)\n",
    "print(\"Chosen SUB_COL:\", SUB_COL)\n",
    "print(\"Chosen PATIENT_COL:\", PATIENT_COL)"
   ]
  },
  {
   "cell_type": "markdown",
   "id": "e4614e60",
   "metadata": {},
   "source": [
    "# 2- Normalize IDs + compute patient IDs\n"
   ]
  },
  {
   "cell_type": "code",
   "execution_count": 27,
   "id": "3a736c19",
   "metadata": {},
   "outputs": [],
   "source": [
    "# (2.1) Helpers for ID cleaning and TCGA patient ID extraction ---\n",
    "def normalize_id(x):\n",
    "    # TCGA barcodes sometimes have '.' — standardize to '-'\n",
    "    if pd.isna(x): return x\n",
    "    return str(x).strip().replace('.', '-')\n",
    "\n",
    "def tcga_patient_id(barcode):\n",
    "    # Patient-level ID = first 12 chars of TCGA barcode (e.g., TCGA-AB-1234)\n",
    "    if pd.isna(barcode): return barcode\n",
    "    return str(barcode).replace('.', '-')[:12]\n"
   ]
  },
  {
   "cell_type": "code",
   "execution_count": 28,
   "id": "da8bea72",
   "metadata": {},
   "outputs": [
    {
     "name": "stdout",
     "output_type": "stream",
     "text": [
      "ID preview: ['TCGA-3C-AAAU-01', 'TCGA-3C-AALI-01', 'TCGA-3C-AALJ-01']\n",
      "patient_id preview: ['TCGA-3C-AAAU', 'TCGA-3C-AALI', 'TCGA-3C-AALJ']\n"
     ]
    }
   ],
   "source": [
    "# (2.2) Normalize the chosen ID column in phenotype ---\n",
    "pheno_df = pheno_df.copy()\n",
    "pheno_df[ID_COL] = pheno_df[ID_COL].map(normalize_id)\n",
    "pheno_df[\"patient_id\"] = pheno_df[ID_COL].map(tcga_patient_id)\n",
    "\n",
    "print(\"ID preview:\", pheno_df[ID_COL].dropna().astype(str).head(3).tolist())\n",
    "print(\"patient_id preview:\", pheno_df[\"patient_id\"].dropna().astype(str).head(3).tolist())"
   ]
  },
  {
   "cell_type": "markdown",
   "id": "70cad9ff",
   "metadata": {},
   "source": [
    "# 3. Build labels table"
   ]
  },
  {
   "cell_type": "code",
   "execution_count": 29,
   "id": "27fbbe55",
   "metadata": {},
   "outputs": [],
   "source": [
    "# (3.1) Subtype mapping dictionary (covers common variants)\n",
    "SUBTYPE_MAP = {\n",
    "    \"Luminal A\":\"LumA\", \"Luminal B\":\"LumB\", \"HER2-enriched\":\"HER2\", \"Basal-like\":\"Basal\",\n",
    "    \"LumA\":\"LumA\", \"LumB\":\"LumB\", \"HER2\":\"HER2\", \"Basal\":\"Basal\",\n",
    "    \"Her2\":\"HER2\", \"HER2 enriched\":\"HER2\", \"Basal like\":\"Basal\",\n",
    "    \"Basal-like (Basal)\":\"Basal\"\n",
    "}\n",
    "\n",
    "def map_subtype(x):\n",
    "    if pd.isna(x): return np.nan\n",
    "    return SUBTYPE_MAP.get(str(x).strip(), np.nan)\n"
   ]
  },
  {
   "cell_type": "code",
   "execution_count": 30,
   "id": "988fc61f",
   "metadata": {},
   "outputs": [
    {
     "name": "stdout",
     "output_type": "stream",
     "text": [
      "✅ Labels ready: (837, 5)\n",
      "subtype_mapped\n",
      "LumA     434\n",
      "LumB     194\n",
      "Basal    142\n",
      "HER2      67\n",
      "Name: count, dtype: int64\n"
     ]
    }
   ],
   "source": [
    "# (3.2) Build a compact labels table (if SUB_COL is available) ---\n",
    "labels_df = (\n",
    "    pheno_df[[ID_COL, \"patient_id\", SUB_COL]]\n",
    "      .assign(\n",
    "          subtype_raw=lambda d: d[SUB_COL].astype(str).str.strip(),\n",
    "          subtype_mapped=lambda d: d[\"subtype_raw\"].map(map_subtype)\n",
    "      )\n",
    "      .loc[lambda d: d[\"subtype_raw\"].str.lower() != \"normal\"]    # drop Normal/Normal-like\n",
    "      .dropna(subset=[\"subtype_mapped\"])\n",
    "      .reset_index(drop=True)\n",
    ")\n",
    "\n",
    "print(\"✅ Labels ready:\", labels_df.shape)\n",
    "print(labels_df[\"subtype_mapped\"].value_counts())\n"
   ]
  },
  {
   "cell_type": "markdown",
   "id": "cfd82529",
   "metadata": {},
   "source": [
    "# 4.Prepare the expression matrix as samples × genes"
   ]
  },
  {
   "cell_type": "code",
   "execution_count": 31,
   "id": "b7ae33c0",
   "metadata": {},
   "outputs": [
    {
     "name": "stdout",
     "output_type": "stream",
     "text": [
      "Expression table: (1218, 20531)\n",
      "Has 'sample_id' column? True\n",
      "sample_id preview: ['TCGA-AR-A5QQ-01', 'TCGA-D8-A1JA-01', 'TCGA-BH-A0BQ-01']\n"
     ]
    }
   ],
   "source": [
    "expr_df = expr_df.copy()\n",
    "\n",
    "# Heuristic: if first column looks like gene symbols, treat it as gene column and transpose\n",
    "first_col = expr_df.columns[0]\n",
    "first_col_looks_like_gene = ('gene' in first_col.lower()) or (expr_df[first_col].astype(str).str.contains('-').mean() < 0.05)\n",
    "\n",
    "if first_col_looks_like_gene:\n",
    "    # assume first column is gene id/name\n",
    "    expr_df = expr_df.set_index(first_col).T.reset_index().rename(columns={'index':'sample_id'})\n",
    "else:\n",
    "    if expr_df.index.name is None:\n",
    "        expr_df.index.name = 'sample_id'\n",
    "    expr_df = expr_df.reset_index().rename(columns={expr_df.index.name or 'index':'sample_id'})\n",
    "\n",
    "expr_df[\"sample_id\"] = expr_df[\"sample_id\"].map(normalize_id)\n",
    "\n",
    "print(\"Expression table:\", expr_df.shape)\n",
    "print(\"Has 'sample_id' column?\", 'sample_id' in expr_df.columns)\n",
    "print(\"sample_id preview:\", expr_df[\"sample_id\"].head(3).tolist())"
   ]
  },
  {
   "cell_type": "markdown",
   "id": "9e8efc5e",
   "metadata": {},
   "source": [
    "# 5.Align labels to expression\n"
   ]
  },
  {
   "cell_type": "code",
   "execution_count": 32,
   "id": "1886a73a",
   "metadata": {},
   "outputs": [
    {
     "name": "stdout",
     "output_type": "stream",
     "text": [
      "Merged shape: (837, 20534)\n",
      "Class counts after merge:\n",
      " subtype_mapped\n",
      "LumA     434\n",
      "LumB     194\n",
      "Basal    142\n",
      "HER2      67\n",
      "Name: count, dtype: int64\n"
     ]
    }
   ],
   "source": [
    "\n",
    "if labels_df is None:\n",
    "    raise RuntimeError(\"No labels_df (no SUB_COL in phenotype). Compute PAM50 from expression first, then rerun.\")\n",
    "\n",
    "merged = labels_df[[ID_COL, \"patient_id\", \"subtype_mapped\"]].merge(\n",
    "    expr_df, left_on=ID_COL, right_on=\"sample_id\", how=\"inner\"\n",
    ")\n",
    "print(\"Merged shape:\", merged.shape)\n",
    "print(\"Class counts after merge:\\n\", merged[\"subtype_mapped\"].value_counts())\n"
   ]
  },
  {
   "cell_type": "code",
   "execution_count": 33,
   "id": "927cc550",
   "metadata": {},
   "outputs": [
    {
     "name": "stdout",
     "output_type": "stream",
     "text": [
      "Patients with >1 samples: 16\n"
     ]
    },
    {
     "data": {
      "text/plain": [
       "patient_id\n",
       "TCGA-A7-A13G    2\n",
       "TCGA-GI-A2C8    2\n",
       "TCGA-BH-A0B5    2\n",
       "TCGA-BH-A0DD    2\n",
       "TCGA-BH-A0DK    2\n",
       "Name: count, dtype: int64"
      ]
     },
     "execution_count": 33,
     "metadata": {},
     "output_type": "execute_result"
    }
   ],
   "source": [
    "# Quick leakage sanity\n",
    "dup_patients = merged[\"patient_id\"].value_counts()\n",
    "print(\"Patients with >1 samples:\", (dup_patients > 1).sum())\n",
    "dup_patients.head(5)"
   ]
  },
  {
   "cell_type": "markdown",
   "id": "e2c55df9",
   "metadata": {},
   "source": [
    "# 6. Patient-level stratified split (no leakage)"
   ]
  },
  {
   "cell_type": "code",
   "execution_count": 34,
   "id": "4514d63b",
   "metadata": {},
   "outputs": [
    {
     "name": "stdout",
     "output_type": "stream",
     "text": [
      "Split sizes:\n",
      "  Train  671 samples → {'LumA': 350, 'LumB': 156, 'Basal': 115, 'HER2': 50}\n",
      "  Val     82 samples → {'LumA': 40, 'LumB': 21, 'Basal': 13, 'HER2': 8}\n",
      "  Test    84 samples → {'LumA': 44, 'LumB': 17, 'Basal': 14, 'HER2': 9}\n"
     ]
    }
   ],
   "source": [
    "# 6. Stratified patient-level split ---\n",
    "from sklearn.model_selection import StratifiedGroupKFold\n",
    "import numpy as np\n",
    "\n",
    "X = merged.drop(columns=['sample_id','patient_id','subtype_mapped'])\n",
    "y = merged['subtype_mapped']\n",
    "g = merged['patient_id']\n",
    "\n",
    "cv = StratifiedGroupKFold(n_splits=5, shuffle=True, random_state=42)\n",
    "train_idx, temp_idx = next(cv.split(X, y, g))\n",
    "\n",
    "X_train, y_train, g_train = X.iloc[train_idx], y.iloc[train_idx], g.iloc[train_idx]\n",
    "X_temp,  y_temp,  g_temp  = X.iloc[temp_idx],  y.iloc[temp_idx],  g.iloc[temp_idx]\n",
    "\n",
    "rng = np.random.RandomState(42)\n",
    "groups = pd.Series(g_temp.unique()).sample(frac=1, random_state=42).tolist()\n",
    "val_groups = set(groups[:len(groups)//2])\n",
    "test_groups = set(groups[len(groups)//2:])\n",
    "\n",
    "val_mask = g_temp.isin(val_groups)\n",
    "test_mask = g_temp.isin(test_groups)\n",
    "\n",
    "X_val, y_val = X_temp[val_mask], y_temp[val_mask]\n",
    "X_test, y_test = X_temp[test_mask], y_temp[test_mask]\n",
    "\n",
    "print(\"Split sizes:\")\n",
    "for name, yy in zip([\"Train\",\"Val\",\"Test\"], [y_train,y_val,y_test]):\n",
    "    print(f\"  {name:<5} {yy.shape[0]:4d} samples →\", yy.value_counts().to_dict())\n"
   ]
  },
  {
   "cell_type": "markdown",
   "id": "4f4a8ddc",
   "metadata": {},
   "source": [
    "# 7. Normalize features (log1p + z-score) ---"
   ]
  },
  {
   "cell_type": "code",
   "execution_count": 35,
   "id": "120eaf1d",
   "metadata": {},
   "outputs": [
    {
     "name": "stdout",
     "output_type": "stream",
     "text": [
      "Features kept: 5000\n"
     ]
    }
   ],
   "source": [
    "from sklearn.preprocessing import StandardScaler\n",
    "\n",
    "APPLY_LOG1P = True\n",
    "TOP_N_VAR = 5000  # or None\n",
    "\n",
    "def maybe_log1p(df):\n",
    "    num = df.select_dtypes(include=[np.number])\n",
    "    other = df.drop(columns=num.columns, errors='ignore')\n",
    "    num = np.log1p(num.clip(lower=0)) if APPLY_LOG1P else num\n",
    "    return pd.concat([num, other], axis=1)[df.columns]\n",
    "\n",
    "Xt = {'train': maybe_log1p(X_train), 'val': maybe_log1p(X_val), 'test': maybe_log1p(X_test)}\n",
    "\n",
    "if TOP_N_VAR:\n",
    "    # keep only numeric columns before variance\n",
    "     num_cols = Xt['train'].select_dtypes(include=[np.number])\n",
    "     keep = num_cols.var().sort_values(ascending=False).head(TOP_N_VAR).index\n",
    "else:\n",
    "    keep = Xt['train'].columns\n",
    "\n",
    "Xt = {k: v[keep] for k,v in Xt.items()}\n",
    "\n",
    "scaler = StandardScaler()\n",
    "Xz = {\n",
    "    k: pd.DataFrame(scaler.fit_transform(v) if k=='train' else scaler.transform(v),\n",
    "                    columns=keep, index=v.index)\n",
    "    for k,v in Xt.items()\n",
    "}\n",
    "print(\"Features kept:\", len(keep))\n"
   ]
  },
  {
   "cell_type": "markdown",
   "id": "35bc61fc",
   "metadata": {},
   "source": [
    "# 8. Save processed data"
   ]
  },
  {
   "cell_type": "code",
   "execution_count": 36,
   "id": "b2e79a92",
   "metadata": {},
   "outputs": [
    {
     "name": "stdout",
     "output_type": "stream",
     "text": [
      "✅ Saved all processed data to: c:\\Projects\\BRCATranstypia\\data\\processed\n"
     ]
    }
   ],
   "source": [
    "PROC = DATA_PROCESSED\n",
    "PROC.mkdir(parents=True, exist_ok=True)\n",
    "\n",
    "Xz['train'].to_csv(PROC/'X_train.csv', index=False)\n",
    "Xz['val'  ].to_csv(PROC/'X_val.csv', index=False)\n",
    "Xz['test' ].to_csv(PROC/'X_test.csv', index=False)\n",
    "\n",
    "\n",
    "y_train.to_frame('subtype').to_csv(PROC/'y_train.csv', index=False)\n",
    "y_val.to_frame('subtype').to_csv(PROC/'y_val.csv', index=False)\n",
    "y_test.to_frame('subtype').to_csv(PROC/'y_test.csv', index=False)\n",
    "\n",
    "meta = dict(seed=42, apply_log1p=APPLY_LOG1P, top_n_var=TOP_N_VAR, n_features=len(keep))\n",
    "pd.Series(meta).to_json(PROC/'meta.json')\n",
    "\n",
    "print(f\"✅ Saved all processed data to: {PROC}\")\n"
   ]
  },
  {
   "cell_type": "markdown",
   "id": "464b859c",
   "metadata": {},
   "source": [
    "Sanity plots"
   ]
  },
  {
   "cell_type": "code",
   "execution_count": 37,
   "id": "dcecb948",
   "metadata": {},
   "outputs": [
    {
     "data": {
      "image/png": "[encoded data removed]",
      "text/plain": [
       "<Figure size 640x480 with 1 Axes>"
      ]
     },
     "metadata": {},
     "output_type": "display_data"
    },
    {
     "data": {
      "image/png": "[encoded data removed]",
      "text/plain": [
       "<Figure size 640x480 with 1 Axes>"
      ]
     },
     "metadata": {},
     "output_type": "display_data"
    },
    {
     "data": {
      "image/png": "[encoded data removed]",
      "text/plain": [
       "<Figure size 640x480 with 1 Axes>"
      ]
     },
     "metadata": {},
     "output_type": "display_data"
    }
   ],
   "source": [
    "import matplotlib.pyplot as plt\n",
    "for name, yy in [(\"Train\",y_train),(\"Val\",y_val),(\"Test\",y_test)]:\n",
    "    plt.figure(); yy.value_counts().plot(kind='bar'); plt.title(f\"{name} class counts\"); plt.show()"
   ]
  },
  {
   "cell_type": "markdown",
   "id": "4c80a8c1",
   "metadata": {},
   "source": [
    "Summary"
   ]
  },
  {
   "cell_type": "code",
   "execution_count": 38,
   "id": "f59fa96f",
   "metadata": {},
   "outputs": [
    {
     "name": "stdout",
     "output_type": "stream",
     "text": [
      "Features: 5000 | log1p: True | topN: 5000\n",
      "Shapes: Train (671, 5000) | Val (82, 5000) | Test (84, 5000)\n"
     ]
    }
   ],
   "source": [
    "print(f\"Features: {len(keep)} | log1p: {APPLY_LOG1P} | topN: {TOP_N_VAR}\")\n",
    "print(\"Shapes:\", \n",
    "      \"Train\", Xz['train'].shape, \n",
    "      \"| Val\", Xz['val'].shape, \n",
    "      \"| Test\", Xz['test'].shape)\n"
   ]
  }
 ],
 "metadata": {
  "kernelspec": {
   "display_name": "brca-pam50",
   "language": "python",
   "name": "python3"
  },
  "language_info": {
   "codemirror_mode": {
    "name": "ipython",
    "version": 3
   },
   "file_extension": ".py",
   "mimetype": "text/x-python",
   "name": "python",
   "nbconvert_exporter": "python",
   "pygments_lexer": "ipython3",
   "version": "3.11.14"
  }
 },
 "nbformat": 4,
 "nbformat_minor": 5
}
